{
  "nbformat": 4,
  "nbformat_minor": 0,
  "metadata": {
    "colab": {
      "name": "assignment10.ipynb",
      "provenance": [],
      "authorship_tag": "ABX9TyN7UziyEBM6S6VDVuL4G3VG",
      "include_colab_link": true
    },
    "kernelspec": {
      "name": "python3",
      "display_name": "Python 3"
    }
  },
  "cells": [
    {
      "cell_type": "markdown",
      "metadata": {
        "id": "view-in-github",
        "colab_type": "text"
      },
      "source": [
        "<a href=\"https://colab.research.google.com/github/Saividya5009/files/blob/master/assignment10.ipynb\" target=\"_parent\"><img src=\"https://colab.research.google.com/assets/colab-badge.svg\" alt=\"Open In Colab\"/></a>"
      ]
    },
    {
      "cell_type": "markdown",
      "metadata": {
        "id": "WceXrfe5_Ya_",
        "colab_type": "text"
      },
      "source": [
        "1.Write a Python program to read an entire text file."
      ]
    },
    {
      "cell_type": "code",
      "metadata": {
        "id": "_OCV-CbN_bYa",
        "colab_type": "code",
        "colab": {
          "base_uri": "https://localhost:8080/",
          "height": 34
        },
        "outputId": "2e679d78-5cf6-4226-ab23-fc3b29a314fa"
      },
      "source": [
        "f1=open(\"file.txt\",\"w\")\n",
        "f1.write(\"hello\")\n",
        "f1.close()\n",
        "f1=open(\"file.txt\",\"r\")\n",
        "lines=f1.read()\n",
        "print(lines)\n"
      ],
      "execution_count": null,
      "outputs": [
        {
          "output_type": "stream",
          "text": [
            "hello\n"
          ],
          "name": "stdout"
        }
      ]
    },
    {
      "cell_type": "markdown",
      "metadata": {
        "id": "ulRXalRYMzWu",
        "colab_type": "text"
      },
      "source": [
        "2.Write a Python program to read first n lines of a file."
      ]
    },
    {
      "cell_type": "code",
      "metadata": {
        "id": "3i-y7MOmM-c1",
        "colab_type": "code",
        "colab": {
          "base_uri": "https://localhost:8080/",
          "height": 68
        },
        "outputId": "0c034f53-c776-4d6f-8fab-9d00fd02bfc3"
      },
      "source": [
        "f1=open(\"file.txt\",\"w\")\n",
        "f1.write(\"\"\"hello\n",
        "hii\n",
        "good morning\"\"\")\n",
        "f1.close()\n",
        "f1=open(\"file.txt\",\"r\")\n",
        "lines=f1.read()\n",
        "print(lines)"
      ],
      "execution_count": null,
      "outputs": [
        {
          "output_type": "stream",
          "text": [
            "hello\n",
            "hii\n",
            "good morning\n"
          ],
          "name": "stdout"
        }
      ]
    },
    {
      "cell_type": "markdown",
      "metadata": {
        "id": "UeHEfeSORlu-",
        "colab_type": "text"
      },
      "source": [
        "3.Write a Python program to append text to a file and display the text. "
      ]
    },
    {
      "cell_type": "code",
      "metadata": {
        "id": "ps_f5dRoRr6E",
        "colab_type": "code",
        "colab": {}
      },
      "source": [
        "f1=open(\"file.txt\",\"w\")\n",
        "f1.write(\"\"\"hello\n",
        "hii\n",
        "good morning\"\"\")\n",
        "f1.close()\n",
        "f1=open(\"file.txt\",\"a\")\n",
        "content=\"have a nice day\"\n",
        "f1.write(content)\n",
        "f1.close()\n",
        "\n",
        "\n",
        "\n"
      ],
      "execution_count": 1,
      "outputs": []
    },
    {
      "cell_type": "markdown",
      "metadata": {
        "id": "dXQRUmZ5WJYZ",
        "colab_type": "text"
      },
      "source": [
        "4. Write a Python program to read last n lines of a file."
      ]
    },
    {
      "cell_type": "code",
      "metadata": {
        "id": "t49URC_lWSyK",
        "colab_type": "code",
        "colab": {
          "base_uri": "https://localhost:8080/",
          "height": 85
        },
        "outputId": "fcf09a9f-cade-4dd2-caf5-c1ce6460e97e"
      },
      "source": [
        "f1=open(\"file.txt\",\"w\")\n",
        "f1.write(\"\"\"\"\"hello\n",
        "i am vidya\n",
        "i am doing btech \n",
        "in gitam\"\"\"\"\")\n",
        "f1.close()\n",
        "f1=open(\"file.txt\",\"r\")\n",
        "n=int(input(\"Enter the value of n to print the last lines: \"))\n",
        "last=f1.readlines() [-n:]\n",
        "for line in last:\n",
        "    print(line, end ='')"
      ],
      "execution_count": 3,
      "outputs": [
        {
          "output_type": "stream",
          "text": [
            "Enter the value of n to print the last lines: 3\n",
            "i am vidya\n",
            "i am doing btech \n",
            "in gitam"
          ],
          "name": "stdout"
        }
      ]
    },
    {
      "cell_type": "markdown",
      "metadata": {
        "id": "SIznbaTgWWGo",
        "colab_type": "text"
      },
      "source": [
        "5. Write a Python program to read a file line by line store it into a variable"
      ]
    },
    {
      "cell_type": "code",
      "metadata": {
        "id": "p9yrTQ-ZWcUz",
        "colab_type": "code",
        "colab": {
          "base_uri": "https://localhost:8080/",
          "height": 34
        },
        "outputId": "74aa24fd-2de9-44b0-f00c-c8e1cae43630"
      },
      "source": [
        "f1=open(\"file.txt\",\"w\")\n",
        "f1.write(\"hello hii good morning\")\n",
        "f1.close()\n",
        "f1=\"file.txt\"\n",
        "with open(f1,'r') as f1:\n",
        "  l=f1.read()\n",
        "print(\"the variable l is\",l)"
      ],
      "execution_count": null,
      "outputs": [
        {
          "output_type": "stream",
          "text": [
            "the variable l is hello hii good morning\n"
          ],
          "name": "stdout"
        }
      ]
    },
    {
      "cell_type": "markdown",
      "metadata": {
        "id": "F60fegfwWdeT",
        "colab_type": "text"
      },
      "source": [
        "6. Write a Python program to read a file line by line and store it into a list. "
      ]
    },
    {
      "cell_type": "code",
      "metadata": {
        "id": "_Uy8AYYkWiFk",
        "colab_type": "code",
        "colab": {
          "base_uri": "https://localhost:8080/",
          "height": 34
        },
        "outputId": "5590f188-e62d-4341-b128-085c19c0baa8"
      },
      "source": [
        "f1=open(\"file.txt\",\"w\")\n",
        "f1.write(\"hello hii have a nice day\")\n",
        "f1.close()\n",
        "f1=\"file.txt\"\n",
        "list=[ ]\n",
        "with open(f1) as f1:\n",
        "    list=f1.readlines()\n",
        "print(list)\n"
      ],
      "execution_count": 17,
      "outputs": [
        {
          "output_type": "stream",
          "text": [
            "['hello hii have a nice day']\n"
          ],
          "name": "stdout"
        }
      ]
    },
    {
      "cell_type": "markdown",
      "metadata": {
        "id": "1iUZ78mMWjwS",
        "colab_type": "text"
      },
      "source": [
        "7.Write a Python program to read a file line by line store it into an array. "
      ]
    },
    {
      "cell_type": "code",
      "metadata": {
        "id": "l3PzUP5-WsWV",
        "colab_type": "code",
        "colab": {
          "base_uri": "https://localhost:8080/",
          "height": 34
        },
        "outputId": "335bd64a-9242-466a-a65c-674c2ab5fd61"
      },
      "source": [
        "f1=open(\"file.txt\",\"w\")\n",
        "f1.write(\"hello hii good morning\")\n",
        "f1.close()\n",
        "f1=\"file.txt\"\n",
        "array=[ ]\n",
        "with open(f1,'r') as f:\n",
        "  for i in f:\n",
        "    array.append(i)\n",
        "print(array)\n",
        "\n"
      ],
      "execution_count": null,
      "outputs": [
        {
          "output_type": "stream",
          "text": [
            "['hello hii good morning']\n"
          ],
          "name": "stdout"
        }
      ]
    },
    {
      "cell_type": "markdown",
      "metadata": {
        "id": "PpTwH8-eWtZk",
        "colab_type": "text"
      },
      "source": [
        "8. Write a Python program to count the number of lines in a text file. "
      ]
    },
    {
      "cell_type": "code",
      "metadata": {
        "id": "9CZqWaFmW2nl",
        "colab_type": "code",
        "colab": {
          "base_uri": "https://localhost:8080/",
          "height": 34
        },
        "outputId": "4bf416b6-66da-4bb2-b7fa-b2f7c450224a"
      },
      "source": [
        "f1=open(\"file.txt\",\"w\")\n",
        "f1.write(\"\"\"hello\n",
        "hii\n",
        "good morning\"\"\")\n",
        "f1.close()\n",
        "f1=\"file.txt\"\n",
        "count=0\n",
        "with open(f1,'r') as f:\n",
        "  for line in f:\n",
        "     count=count+1\n",
        "print(count)"
      ],
      "execution_count": null,
      "outputs": [
        {
          "output_type": "stream",
          "text": [
            "3\n"
          ],
          "name": "stdout"
        }
      ]
    },
    {
      "cell_type": "markdown",
      "metadata": {
        "id": "Sak-C8-3W0_t",
        "colab_type": "text"
      },
      "source": [
        "9.Write a Python program to get the file size of a plain file."
      ]
    },
    {
      "cell_type": "code",
      "metadata": {
        "id": "XBM4PGMSW9I5",
        "colab_type": "code",
        "colab": {
          "base_uri": "https://localhost:8080/",
          "height": 34
        },
        "outputId": "2d4e603c-b8b4-4585-ad0d-0ec43abe1db7"
      },
      "source": [
        "f1=open(\"file.txt\",\"w\")\n",
        "f1.write(\"\"\"hello\n",
        "hii\n",
        "i am vidya\"\"\")\n",
        "f1.close()\n",
        "def size(f):\n",
        "  import os\n",
        "  statinfo = os.stat(f)\n",
        "  return statinfo.st_size\n",
        "size_file=size(\"file.txt\")\n",
        "print(\"File size in bytes of a plain file:\",size_file)"
      ],
      "execution_count": 16,
      "outputs": [
        {
          "output_type": "stream",
          "text": [
            "File size in bytes of a plain file: 20\n"
          ],
          "name": "stdout"
        }
      ]
    },
    {
      "cell_type": "markdown",
      "metadata": {
        "id": "gQmsD9TEW-eh",
        "colab_type": "text"
      },
      "source": [
        "10.Write a Python program to copy the contents of a file to another file ."
      ]
    },
    {
      "cell_type": "code",
      "metadata": {
        "id": "u-pZ_zY-XCjX",
        "colab_type": "code",
        "colab": {}
      },
      "source": [
        "import shutil\n",
        "f1=open(\"file.txt\",\"w\")\n",
        "f1.write(\"hello\")\n",
        "f1.close()\n",
        "f2=open(\"out.txt\",\"w\")\n",
        "f2.write(\"hii\")\n",
        "f2.close()\n",
        "with open (\"file.txt\") as f1:\n",
        "  with open (\"out.txt\",'w') as f2:\n",
        "    for line in f1:\n",
        "      f2.write(line)\n"
      ],
      "execution_count": null,
      "outputs": []
    }
  ]
}